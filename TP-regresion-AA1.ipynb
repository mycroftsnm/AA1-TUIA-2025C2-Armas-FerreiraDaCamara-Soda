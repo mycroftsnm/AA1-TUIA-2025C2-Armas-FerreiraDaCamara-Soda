{
 "cells": [
  {
   "cell_type": "code",
   "execution_count": null,
   "id": "0",
   "metadata": {},
   "outputs": [],
   "source": [
    "import pandas as pd\n",
    "import numpy as np\n",
    "\n",
    "import seaborn as sns\n",
    "import matplotlib.pyplot as plt\n",
    "\n",
    "import plotly.express as px\n",
    "import plotly.graph_objects as go\n",
    "import plotly.figure_factory as ff\n",
    "\n",
    "from sklearn.model_selection import train_test_split\n",
    "from sklearn.preprocessing import StandardScaler\n",
    "from sklearn.linear_model import LinearRegression, Lasso, Ridge, ElasticNet, LassoCV, RidgeCV, ElasticNetCV\n",
    "from sklearn.metrics import mean_squared_error, r2_score\n",
    "from sklearn.impute import KNNImputer\n",
    "\n",
    "from geopy.distance import geodesic\n",
    "\n",
    "import plotly.express as px\n",
    "\n",
    "import holidays\n"
   ]
  },
  {
   "cell_type": "code",
   "execution_count": null,
   "id": "1",
   "metadata": {},
   "outputs": [],
   "source": [
    "# Carga el dataset en un dataframe\n",
    "df = pd.read_csv('uber_fares.csv')\n",
    "\n",
    "# Revisa si hay filas duplicadas\n",
    "df.duplicated().sum() # 0 filas duplicadas\n",
    "\n",
    "# Revisa las columnas y sus tipos de datos\n",
    "df.dtypes\n"
   ]
  },
  {
   "cell_type": "code",
   "execution_count": null,
   "id": "2",
   "metadata": {},
   "outputs": [],
   "source": [
    "# Asigna el tipo de datos correcto a las variables que representan fechas\n",
    "df['pickup_datetime'] = pd.to_datetime(df['pickup_datetime']).dt.floor('s')\n",
    "df['date'] = pd.to_datetime(df['date']).dt.floor('s')\n",
    "\n",
    "# Muestra las primeras filas del dataframe\n",
    "df.head()"
   ]
  },
  {
   "cell_type": "markdown",
   "id": "3",
   "metadata": {},
   "source": [
    "# Limpieza y preprocesamiento"
   ]
  },
  {
   "cell_type": "code",
   "execution_count": null,
   "id": "4",
   "metadata": {},
   "outputs": [],
   "source": [
    "# Elimina la columna 'key' que no aporta información relevante\n",
    "df = df.drop(columns=['key'])\n",
    "\n",
    "# Chequea si las columnas 'pickup_datetime' y 'date' son iguales\n",
    "df['pickup_datetime'].equals(df['date']) # True\n",
    "\n",
    "# Elimina la columna 'pickup_datetime' ya que es redundante\n",
    "df = df.drop(columns=['pickup_datetime'])"
   ]
  },
  {
   "cell_type": "code",
   "execution_count": null,
   "id": "5",
   "metadata": {},
   "outputs": [],
   "source": [
    "# Elimina las filas cuya variable objetivo no es un valor posible\n",
    "df = df[df['fare_amount'] > 0] # 0.01% de los datos"
   ]
  },
  {
   "cell_type": "markdown",
   "id": "6",
   "metadata": {},
   "source": [
    "#### Null Island\n",
    "Isla ficticia, ubicada en 0°N 0°E, que los GPS suelen utilizar como ubicación por defecto cuando fallan y no pueden determinar la ubicación real, es decir, representa una ubicación nula."
   ]
  },
  {
   "cell_type": "code",
   "execution_count": null,
   "id": "7",
   "metadata": {},
   "outputs": [],
   "source": [
    "df_sin_null_island = df[\n",
    "    ~(\n",
    "        (df['pickup_latitude'] == 0) & (df['pickup_longitude'] == 0) |\n",
    "        (df['dropoff_latitude'] == 0) & (df['dropoff_longitude'] == 0)\n",
    "    )\n",
    "]\n",
    "\n",
    "print(f\"Los viajes que comenzaron o terminaron en Null Island representan el {100 * (1 - df_sin_null_island.shape[0] / df.shape[0]):.2f}% de los datos.\")"
   ]
  },
  {
   "cell_type": "code",
   "execution_count": null,
   "id": "8",
   "metadata": {},
   "outputs": [],
   "source": [
    "# Elimina las filas que corresponden a viajes que empezaron o terminaron en Null Island\n",
    "df = df_sin_null_island"
   ]
  },
  {
   "cell_type": "code",
   "execution_count": null,
   "id": "9",
   "metadata": {},
   "outputs": [],
   "source": [
    "# Genera un nuevo dataframe con todas las coordenadas\n",
    "coordenadas = pd.concat(\n",
    "    [\n",
    "        df[['pickup_latitude', 'pickup_longitude']].rename(\n",
    "            columns={'pickup_latitude': 'latitude', 'pickup_longitude': 'longitude'}\n",
    "        ).assign(type='pickup'),\n",
    "        df[['dropoff_latitude', 'dropoff_longitude']].rename(\n",
    "            columns={'dropoff_latitude': 'latitude', 'dropoff_longitude': 'longitude'}\n",
    "        ).assign(type='dropoff')\n",
    "    ], ignore_index=True\n",
    ")\n",
    "\n",
    "# Muestra un mapa de las ubicaciones de inicio y fin del viaje\n",
    "fig = px.scatter_map(\n",
    "    coordenadas.sample(50000),\n",
    "    lat=\"latitude\",\n",
    "    lon=\"longitude\",\n",
    "    color=\"type\",\n",
    "    zoom=5,\n",
    "    title=\"Ubicaciones\"\n",
    ")\n",
    "\n",
    "fig.update_layout(\n",
    "    mapbox_style=\"open-street-map\",\n",
    "    margin={\"r\":0,\"t\":30,\"l\":0,\"b\":0}  # elimina márgenes blancos\n",
    ")\n",
    "fig.show()\n"
   ]
  },
  {
   "cell_type": "markdown",
   "id": "10",
   "metadata": {},
   "source": [
    "A simple vista se observa que hay una gran densidad de viajes en Nueva York"
   ]
  },
  {
   "cell_type": "code",
   "execution_count": null,
   "id": "11",
   "metadata": {},
   "outputs": [],
   "source": [
    "limites_ny = {\n",
    "    'lat_min': 40.49,\n",
    "    'lat_max': 40.92,\n",
    "    'lon_min': -74.27,\n",
    "    'lon_max': -73.68\n",
    "}\n",
    "\n",
    "cantidad_viajes = df.shape[0]\n",
    "\n",
    "# Filtra los viajes que se dieron de los límites de Nueva York\n",
    "df_ny = df[\n",
    "    (df['pickup_latitude'] >= limites_ny['lat_min']) &\n",
    "    (df['pickup_latitude'] <= limites_ny['lat_max']) &\n",
    "    (df['pickup_longitude'] >= limites_ny['lon_min']) &\n",
    "    (df['pickup_longitude'] <= limites_ny['lon_max']) &\n",
    "    (df['dropoff_latitude'] >= limites_ny['lat_min']) &\n",
    "    (df['dropoff_latitude'] <= limites_ny['lat_max']) &\n",
    "    (df['dropoff_longitude'] >= limites_ny['lon_min']) &\n",
    "    (df['dropoff_longitude'] <= limites_ny['lon_max'])\n",
    "]\n",
    "cantidad_viajes_ny = df_ny.shape[0]\n",
    "\n",
    "print(f\"Los viajes dentro de los límites de Nueva York representan el {cantidad_viajes_ny / cantidad_viajes * 100:.2f}% del total.\")\n"
   ]
  },
  {
   "cell_type": "markdown",
   "id": "12",
   "metadata": {},
   "source": [
    "TODO Vamos a reducir el alcance de nuestro modelo predictivo a viajes integramente dentro de la ciudad de Nueva York, ya que etc COMPLETAR"
   ]
  },
  {
   "cell_type": "code",
   "execution_count": null,
   "id": "13",
   "metadata": {},
   "outputs": [],
   "source": [
    "# Elimina las filas que corresponden a viajes que no se dieron dentro de los límites de Nueva York\n",
    "df = df_ny"
   ]
  },
  {
   "cell_type": "markdown",
   "id": "14",
   "metadata": {},
   "source": [
    "Los valores posibles para la variable passenger_count están en el rango [0;6]. (UberX permite hasta 4 y UberXL hasta 6)."
   ]
  },
  {
   "cell_type": "code",
   "execution_count": null,
   "id": "15",
   "metadata": {},
   "outputs": [],
   "source": [
    "# Análisis de viajes con cantidad de pasajeros no válida\n",
    "df[(df['passenger_count'] > 6)]"
   ]
  },
  {
   "cell_type": "code",
   "execution_count": null,
   "id": "16",
   "metadata": {},
   "outputs": [],
   "source": [
    "# Elimina la fila con passenger_count = 208, que es la única con valor absurdo.\n",
    "df = df[df['passenger_count'] <= 6]"
   ]
  },
  {
   "cell_type": "code",
   "execution_count": null,
   "id": "17",
   "metadata": {},
   "outputs": [],
   "source": [
    "print(f\"Hasta acá dropeamos un {100 - df.shape[0] / 200000 * 100:.2f}% de los datos.\")"
   ]
  },
  {
   "cell_type": "markdown",
   "id": "18",
   "metadata": {},
   "source": [
    "## Generación de nuevas variables"
   ]
  },
  {
   "cell_type": "code",
   "execution_count": null,
   "id": "19",
   "metadata": {},
   "outputs": [],
   "source": [
    "def imputar_distancia(viaje):\n",
    "    '''\n",
    "    Calcula la distancía  en kilometros del viaje\n",
    "    mediante una combinación de distancia Manhattan con\n",
    "    distancia geodésica (teniendo en cuenta la curvatura\n",
    "    de la Tierra.)\n",
    "    '''\n",
    "    lat1 = viaje['pickup_latitude']\n",
    "    lon1 = viaje['pickup_longitude']\n",
    "    lat2 = viaje['dropoff_latitude']\n",
    "    lon2 = viaje['dropoff_longitude']\n",
    "\n",
    "    distancia_lat = np.float32(geodesic((lat1, lon1), (lat2, lon1)).kilometers)\n",
    "    distancia_lon = np.float32(geodesic((lat2, lon1), (lat2, lon2)).kilometers)\n",
    "\n",
    "    return distancia_lat + distancia_lon\n",
    "\n",
    "df['distance'] = df.apply(imputar_distancia, axis=1)"
   ]
  },
  {
   "cell_type": "code",
   "execution_count": null,
   "id": "20",
   "metadata": {},
   "outputs": [],
   "source": [
    "df[\"hour_sin\"] = np.sin(2 * np.pi * df['date'].dt.hour / 24)\n",
    "df[\"hour_cos\"] = np.cos(2 * np.pi * df['date'].dt.hour / 24)\n",
    "\n",
    "df[\"weekday_sin\"] = np.sin(2 * np.pi * df['date'].dt.day_of_week / 7)\n",
    "df[\"weekday_cos\"] = np.cos(2 * np.pi * df['date'].dt.day_of_week / 7)\n",
    "\n",
    "df[\"month_sin\"] = np.sin(2 * np.pi * df['date'].dt.month / 12)\n",
    "df[\"month_cos\"] = np.cos(2 * np.pi * df['date'].dt.month / 12)"
   ]
  },
  {
   "cell_type": "code",
   "execution_count": null,
   "id": "21",
   "metadata": {},
   "outputs": [],
   "source": [
    "us_holidays = holidays.US(years=df[\"date\"].dt.year.unique(), state=\"NY\")\n",
    "df[\"holiday\"] = df[\"date\"].dt.date.isin(us_holidays)"
   ]
  },
  {
   "cell_type": "code",
   "execution_count": null,
   "id": "22",
   "metadata": {},
   "outputs": [],
   "source": [
    "df[df['holiday'] == True]"
   ]
  },
  {
   "cell_type": "code",
   "execution_count": null,
   "id": "23",
   "metadata": {},
   "outputs": [],
   "source": [
    "# Separa el 80% para train y 20% para test\n",
    "train, test= train_test_split(df, test_size=0.2, random_state=1)"
   ]
  },
  {
   "cell_type": "markdown",
   "id": "24",
   "metadata": {},
   "source": [
    "# EDA"
   ]
  },
  {
   "cell_type": "code",
   "execution_count": null,
   "id": "25",
   "metadata": {},
   "outputs": [],
   "source": [
    "# Distribución de variables\n",
    "\n",
    "fig, axes = plt.subplots(1, 3, figsize=(18, 6))  # 1 fila, 2 columnas\n",
    "\n",
    "sns.histplot(data=train, x='fare_amount', bins=50, color=sns.color_palette(\"muted\")[0], ax=axes[0])\n",
    "\n",
    "sns.histplot(data=train, x='distance', bins=50, color=sns.color_palette(\"muted\")[1], ax=axes[1])\n",
    "\n",
    "sns.countplot(data=train, x='passenger_count', color=sns.color_palette(\"muted\")[2], ax=axes[2])\n",
    "\n",
    "plt.tight_layout()\n",
    "plt.show()"
   ]
  },
  {
   "cell_type": "code",
   "execution_count": null,
   "id": "26",
   "metadata": {},
   "outputs": [],
   "source": [
    "# Distribución de variables\n",
    "\n",
    "fig, axes = plt.subplots(1, 3, figsize=(18, 6))  # 1 fila, 2 columnas\n",
    "\n",
    "sns.histplot(data=train[train['fare_amount'] < 50], x='fare_amount', bins=50, color=sns.color_palette(\"muted\")[0], ax=axes[0])\n",
    "\n",
    "sns.histplot(data=train[train['distance'] < 30], x='distance', bins=50, color=sns.color_palette(\"muted\")[1], ax=axes[1])\n",
    "\n",
    "sns.countplot(data=train, x='passenger_count', color=sns.color_palette(\"muted\")[2], ax=axes[2])\n",
    "\n",
    "plt.tight_layout()\n",
    "plt.show()"
   ]
  },
  {
   "cell_type": "code",
   "execution_count": null,
   "id": "27",
   "metadata": {},
   "outputs": [],
   "source": [
    "train[['fare_amount','distance','passenger_count']].describe(percentiles=[.01, .05, .1, .25, .5, .75, .9, .95, .99])"
   ]
  },
  {
   "cell_type": "code",
   "execution_count": null,
   "id": "28",
   "metadata": {},
   "outputs": [],
   "source": [
    "sns.histplot(data=train[train['distance'] == 0], x='fare_amount', bins=50, color=sns.color_palette(\"muted\")[3])"
   ]
  }
 ],
 "metadata": {
  "kernelspec": {
   "display_name": ".venv",
   "language": "python",
   "name": "python3"
  },
  "language_info": {
   "codemirror_mode": {
    "name": "ipython",
    "version": 3
   },
   "file_extension": ".py",
   "mimetype": "text/x-python",
   "name": "python",
   "nbconvert_exporter": "python",
   "pygments_lexer": "ipython3",
   "version": "3.13.7"
  }
 },
 "nbformat": 4,
 "nbformat_minor": 5
}
