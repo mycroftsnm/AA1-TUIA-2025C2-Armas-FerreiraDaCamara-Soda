{
 "cells": [
  {
   "cell_type": "code",
   "execution_count": null,
   "id": "0",
   "metadata": {},
   "outputs": [],
   "source": [
    "import pandas as pd\n",
    "import numpy as np\n",
    "\n",
    "import seaborn as sns\n",
    "import matplotlib.pyplot as plt\n",
    "\n",
    "import plotly.express as px\n",
    "import plotly.graph_objects as go\n",
    "import plotly.figure_factory as ff\n",
    "\n",
    "from sklearn.model_selection import train_test_split\n",
    "from sklearn.preprocessing import StandardScaler\n",
    "from sklearn.linear_model import LinearRegression, Lasso, Ridge, ElasticNet, LassoCV, RidgeCV, ElasticNetCV\n",
    "from sklearn.metrics import mean_squared_error, r2_score\n",
    "from sklearn.impute import KNNImputer\n",
    "\n",
    "from geopy.distance import geodesic"
   ]
  },
  {
   "cell_type": "code",
   "execution_count": null,
   "id": "1",
   "metadata": {},
   "outputs": [],
   "source": [
    "# Carga el dataset en un dataframe\n",
    "df = pd.read_csv('uber_fares.csv')\n",
    "\n",
    "# Nos quedamos con las filas cuya variable objetivo es un valor posible\n",
    "df = df[df['fare_amount'] > 0]\n",
    "\n",
    "# Separa el 80% para train y 20% para test\n",
    "train, test, y_train, y_test = train_test_split(df.drop(columns=['fare_amount']), df['fare_amount'], test_size=0.2, random_state=1)\n",
    "\n",
    "train.info()"
   ]
  },
  {
   "cell_type": "code",
   "execution_count": null,
   "id": "2",
   "metadata": {},
   "outputs": [],
   "source": [
    "# Asigna el tipo de datos correcto a las variables que representan fechas\n",
    "train['pickup_datetime'] = pd.to_datetime(train['pickup_datetime'])\n",
    "train['date'] = pd.to_datetime(train['date'])"
   ]
  },
  {
   "cell_type": "markdown",
   "id": "3",
   "metadata": {},
   "source": [
    "### Análisis de valores nulos\n",
    "Encontramos un valor nulo de *dropoff_location* y otro de *dropoff_latitude*, veamos las filas donde ocurren:"
   ]
  },
  {
   "cell_type": "code",
   "execution_count": null,
   "id": "4",
   "metadata": {},
   "outputs": [],
   "source": [
    "train[train.isnull().any(axis=1)]"
   ]
  },
  {
   "cell_type": "markdown",
   "id": "5",
   "metadata": {},
   "source": [
    "Ambos valores nulos se dan en la misma fila por lo que no podemos imputar la ubicación de destino ni estimar ninguna distancia recorrida, por lo tanto siendo que es una unica fila que representa menos del 0.0006% de los datos, procedemos a eliminarla."
   ]
  },
  {
   "cell_type": "code",
   "execution_count": null,
   "id": "6",
   "metadata": {},
   "outputs": [],
   "source": [
    "train = train.dropna()"
   ]
  },
  {
   "cell_type": "markdown",
   "id": "7",
   "metadata": {},
   "source": [
    "### Análisis de valores absurdos"
   ]
  },
  {
   "cell_type": "markdown",
   "id": "8",
   "metadata": {},
   "source": [
    "#### Variables de coordenadas\n",
    "\n",
    "* pickup_latitude\n",
    "* pickup_longitude\n",
    "* dropoff_latitude\n",
    "* dropoff_longitude\n"
   ]
  },
  {
   "cell_type": "code",
   "execution_count": null,
   "id": "9",
   "metadata": {},
   "outputs": [],
   "source": [
    "def coordenadas_absurdas(viaje):\n",
    "    yield not -90 <= viaje['pickup_latitude'] <= 90, 'pickup_latitude'\n",
    "    yield not -180 <= viaje['pickup_longitude'] <= 180, 'pickup_longitude'\n",
    "    yield not -90 <= viaje['dropoff_latitude'] <= 90, 'dropoff_latitude'\n",
    "    yield not -180 <= viaje['dropoff_longitude'] <= 180 , 'dropoff_longitude'\n",
    "\n",
    "def procesar_coordenadas_absurdas(df):\n",
    "    '''\n",
    "    Procesa las coordenadas absurdas en el dataframe.\n",
    "    Si una fila tiene más de una coordenada absurda, se elimina.\n",
    "    Si tiene una sola coordenada absurda, se imputa mediante KNN.\n",
    "    Si imputar == False, se eliminan las filas con al menos una coordenada absurda.\n",
    "    '''\n",
    "    def procesar_fila(viaje):\n",
    "        coordenada = None\n",
    "        for absurda, coord in coordenadas_absurdas(viaje):\n",
    "            if absurda:\n",
    "                if coordenada:  # Más de una coordenada absurda\n",
    "                    return None # Convierte la fila en NaNs para posterior eliminación\n",
    "                coordenada = coord\n",
    "\n",
    "        if coordenada:\n",
    "            viaje[coordenada] = np.nan # Coordenada absurda -> NaN para posterior imputación\n",
    "        return viaje\n",
    "\n",
    "    df = df.apply(procesar_fila, axis=1)\n",
    "    df = df.dropna(how='all') # Elimina filas de NaNs\n",
    "\n",
    "    # Imputar coordenada absurda mediante KNN\n",
    "    imputer = KNNImputer(n_neighbors=5)\n",
    "    df[['pickup_latitude', 'pickup_longitude', 'dropoff_latitude', 'dropoff_longitude']] = imputer.fit_transform(df[['pickup_latitude', 'pickup_longitude', 'dropoff_latitude', 'dropoff_longitude']])\n",
    "    \n",
    "    return df\n",
    "\n",
    "train = procesar_coordenadas_absurdas(train)\n",
    "test = procesar_coordenadas_absurdas(test)"
   ]
  }
 ],
 "metadata": {
  "kernelspec": {
   "display_name": "Python (myenv)",
   "language": "python",
   "name": "myenv"
  },
  "language_info": {
   "codemirror_mode": {
    "name": "ipython",
    "version": 3
   },
   "file_extension": ".py",
   "mimetype": "text/x-python",
   "name": "python",
   "nbconvert_exporter": "python",
   "pygments_lexer": "ipython3",
   "version": "3.13.7"
  }
 },
 "nbformat": 4,
 "nbformat_minor": 5
}
