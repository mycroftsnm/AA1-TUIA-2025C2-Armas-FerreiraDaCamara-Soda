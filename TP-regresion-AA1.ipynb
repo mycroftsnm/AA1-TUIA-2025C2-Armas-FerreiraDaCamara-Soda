{
 "cells": [
  {
   "cell_type": "code",
   "execution_count": null,
   "id": "0",
   "metadata": {},
   "outputs": [],
   "source": [
    "import pandas as pd\n",
    "import numpy as np\n",
    "\n",
    "import seaborn as sns\n",
    "import matplotlib.pyplot as plt\n",
    "\n",
    "import plotly.express as px\n",
    "import plotly.graph_objects as go\n",
    "import plotly.figure_factory as ff\n",
    "\n",
    "from sklearn.model_selection import train_test_split\n",
    "from sklearn.preprocessing import StandardScaler\n",
    "from sklearn.linear_model import LinearRegression, Lasso, Ridge, ElasticNet, LassoCV, RidgeCV, ElasticNetCV\n",
    "from sklearn.metrics import mean_squared_error, r2_score\n",
    "from sklearn.impute import KNNImputer\n",
    "\n",
    "from geopy.distance import geodesic\n",
    "\n",
    "import plotly.express as px\n",
    "\n",
    "import holidays\n",
    "\n",
    "import scipy.stats as stats\n"
   ]
  },
  {
   "cell_type": "code",
   "execution_count": null,
   "id": "1",
   "metadata": {},
   "outputs": [],
   "source": [
    "# Carga el dataset en un dataframe\n",
    "df = pd.read_csv('uber_fares.csv')\n",
    "\n",
    "# Revisa si hay filas duplicadas\n",
    "df.duplicated().sum() # 0 filas duplicadas\n",
    "\n",
    "# Revisa las columnas y sus tipos de datos\n",
    "df.dtypes\n"
   ]
  },
  {
   "cell_type": "code",
   "execution_count": null,
   "id": "2",
   "metadata": {},
   "outputs": [],
   "source": [
    "# Asigna el tipo de datos correcto a las variables que representan fechas\n",
    "df['pickup_datetime'] = pd.to_datetime(df['pickup_datetime']).dt.floor('s')\n",
    "df['date'] = pd.to_datetime(df['date']).dt.floor('s')\n",
    "\n",
    "# Muestra las primeras filas del dataframe\n",
    "df.head()"
   ]
  },
  {
   "cell_type": "markdown",
   "id": "3",
   "metadata": {},
   "source": [
    "# Limpieza y preprocesamiento"
   ]
  },
  {
   "cell_type": "code",
   "execution_count": null,
   "id": "4",
   "metadata": {},
   "outputs": [],
   "source": [
    "# Elimina la columna 'key' que no aporta información relevante\n",
    "df = df.drop(columns=['key'])\n",
    "\n",
    "# Chequea si las columnas 'pickup_datetime' y 'date' son iguales\n",
    "df['pickup_datetime'].equals(df['date']) # True\n",
    "\n",
    "# Elimina la columna 'pickup_datetime' ya que es redundante\n",
    "df = df.drop(columns=['pickup_datetime'])"
   ]
  },
  {
   "cell_type": "code",
   "execution_count": null,
   "id": "5",
   "metadata": {},
   "outputs": [],
   "source": [
    "# Elimina las filas cuya variable objetivo no es un valor posible\n",
    "df = df[df['fare_amount'] > 0] # 0.01% de los datos"
   ]
  },
  {
   "cell_type": "markdown",
   "id": "6",
   "metadata": {},
   "source": [
    "#### Null Island\n",
    "Isla ficticia, ubicada en 0°N 0°E, que los GPS suelen utilizar como ubicación por defecto cuando fallan y no pueden determinar la ubicación real, es decir, representa una ubicación nula."
   ]
  },
  {
   "cell_type": "code",
   "execution_count": null,
   "id": "7",
   "metadata": {},
   "outputs": [],
   "source": [
    "df_sin_null_island = df[\n",
    "    ~(\n",
    "        (df['pickup_latitude'] == 0) & (df['pickup_longitude'] == 0) |\n",
    "        (df['dropoff_latitude'] == 0) & (df['dropoff_longitude'] == 0)\n",
    "    )\n",
    "]\n",
    "\n",
    "print(f\"Los viajes que comenzaron o terminaron en Null Island representan el {100 * (1 - df_sin_null_island.shape[0] / df.shape[0]):.2f}% de los datos.\")"
   ]
  },
  {
   "cell_type": "code",
   "execution_count": null,
   "id": "8",
   "metadata": {},
   "outputs": [],
   "source": [
    "# Elimina las filas que corresponden a viajes que empezaron o terminaron en Null Island\n",
    "df = df_sin_null_island"
   ]
  },
  {
   "cell_type": "markdown",
   "id": "9",
   "metadata": {},
   "source": [
    "### Visualización de las variables de coordenadas"
   ]
  },
  {
   "cell_type": "code",
   "execution_count": null,
   "id": "10",
   "metadata": {},
   "outputs": [],
   "source": [
    "# Genera un nuevo dataframe con todas las coordenadas\n",
    "coordenadas = pd.concat(\n",
    "    [\n",
    "        df[['pickup_latitude', 'pickup_longitude']].rename(\n",
    "            columns={'pickup_latitude': 'latitude', 'pickup_longitude': 'longitude'}\n",
    "        ).assign(type='pickup'),\n",
    "        df[['dropoff_latitude', 'dropoff_longitude']].rename(\n",
    "            columns={'dropoff_latitude': 'latitude', 'dropoff_longitude': 'longitude'}\n",
    "        ).assign(type='dropoff')\n",
    "    ], ignore_index=True\n",
    ")\n",
    "\n",
    "# Muestra un mapa de las ubicaciones de inicio y fin del viaje\n",
    "fig = px.scatter_map(\n",
    "    coordenadas.sample(50000),\n",
    "    lat=\"latitude\",\n",
    "    lon=\"longitude\",\n",
    "    color=\"type\",\n",
    "    zoom=5,\n",
    "    title=\"Ubicaciones\"\n",
    ")\n",
    "\n",
    "fig.update_layout(\n",
    "    mapbox_style=\"open-street-map\",\n",
    "    margin={\"r\":0,\"t\":30,\"l\":0,\"b\":0}  # elimina márgenes blancos\n",
    ")\n",
    "fig.show()\n"
   ]
  },
  {
   "cell_type": "markdown",
   "id": "11",
   "metadata": {},
   "source": [
    "A simple vista se observa que hay una gran densidad de viajes en Nueva York"
   ]
  },
  {
   "cell_type": "code",
   "execution_count": null,
   "id": "12",
   "metadata": {},
   "outputs": [],
   "source": [
    "limites_ny = {\n",
    "    'lat_min': 40.49,\n",
    "    'lat_max': 40.92,\n",
    "    'lon_min': -74.27,\n",
    "    'lon_max': -73.68\n",
    "}\n",
    "\n",
    "cantidad_viajes = df.shape[0]\n",
    "\n",
    "# Filtra los viajes que se dieron de los límites de Nueva York\n",
    "df_ny = df[\n",
    "    (df['pickup_latitude'] >= limites_ny['lat_min']) &\n",
    "    (df['pickup_latitude'] <= limites_ny['lat_max']) &\n",
    "    (df['pickup_longitude'] >= limites_ny['lon_min']) &\n",
    "    (df['pickup_longitude'] <= limites_ny['lon_max']) &\n",
    "    (df['dropoff_latitude'] >= limites_ny['lat_min']) &\n",
    "    (df['dropoff_latitude'] <= limites_ny['lat_max']) &\n",
    "    (df['dropoff_longitude'] >= limites_ny['lon_min']) &\n",
    "    (df['dropoff_longitude'] <= limites_ny['lon_max'])\n",
    "]\n",
    "cantidad_viajes_ny = df_ny.shape[0]\n",
    "\n",
    "print(f\"Los viajes dentro de los límites de Nueva York representan el {cantidad_viajes_ny / cantidad_viajes * 100:.2f}% del total.\")\n"
   ]
  },
  {
   "cell_type": "markdown",
   "id": "13",
   "metadata": {},
   "source": [
    "TODO Vamos a reducir el alcance de nuestro modelo predictivo a viajes integramente dentro de la ciudad de Nueva York, ya que etc COMPLETAR"
   ]
  },
  {
   "cell_type": "code",
   "execution_count": null,
   "id": "14",
   "metadata": {},
   "outputs": [],
   "source": [
    "# Elimina las filas que corresponden a viajes que no se dieron dentro de los límites de Nueva York\n",
    "df = df_ny"
   ]
  },
  {
   "cell_type": "markdown",
   "id": "15",
   "metadata": {},
   "source": [
    "Los valores posibles para la variable *passenger_count* están en el rango [0;6]. (UberX permite hasta 4 y UberXL hasta 6)."
   ]
  },
  {
   "cell_type": "code",
   "execution_count": null,
   "id": "16",
   "metadata": {},
   "outputs": [],
   "source": [
    "# Análisis de viajes con cantidad de pasajeros no válida\n",
    "df[(df['passenger_count'] > 6)]"
   ]
  },
  {
   "cell_type": "code",
   "execution_count": null,
   "id": "17",
   "metadata": {},
   "outputs": [],
   "source": [
    "# Elimina la fila con passenger_count = 208, que es la única con valor absurdo.\n",
    "df = df[df['passenger_count'] <= 6]"
   ]
  },
  {
   "cell_type": "code",
   "execution_count": null,
   "id": "18",
   "metadata": {},
   "outputs": [],
   "source": [
    "print(f\"Hasta este momento eliminamos un {100 - df.shape[0] / 200000 * 100:.2f}% de los datos.\")"
   ]
  },
  {
   "cell_type": "markdown",
   "id": "19",
   "metadata": {},
   "source": [
    "### Generación de variable distancia"
   ]
  },
  {
   "cell_type": "code",
   "execution_count": null,
   "id": "20",
   "metadata": {},
   "outputs": [],
   "source": [
    "def imputar_distancia(viaje):\n",
    "    '''\n",
    "    Calcula la distancía  en kilometros del viaje\n",
    "    mediante una combinación de distancia Manhattan con\n",
    "    distancia geodésica (teniendo en cuenta la curvatura\n",
    "    de la Tierra.)\n",
    "    '''\n",
    "    lat1 = viaje['pickup_latitude']\n",
    "    lon1 = viaje['pickup_longitude']\n",
    "    lat2 = viaje['dropoff_latitude']\n",
    "    lon2 = viaje['dropoff_longitude']\n",
    "\n",
    "    distancia_lat = np.float32(geodesic((lat1, lon1), (lat2, lon1)).kilometers)\n",
    "    distancia_lon = np.float32(geodesic((lat2, lon1), (lat2, lon2)).kilometers)\n",
    "\n",
    "    return distancia_lat + distancia_lon\n",
    "\n",
    "df['distance'] = df.apply(imputar_distancia, axis=1)"
   ]
  },
  {
   "cell_type": "markdown",
   "id": "21",
   "metadata": {},
   "source": [
    "### Split Train/Test"
   ]
  },
  {
   "cell_type": "code",
   "execution_count": null,
   "id": "22",
   "metadata": {},
   "outputs": [],
   "source": [
    "# Separa el 80% para train y 20% para test\n",
    "train, test= train_test_split(df, test_size=0.2, random_state=1)"
   ]
  },
  {
   "cell_type": "markdown",
   "id": "23",
   "metadata": {},
   "source": [
    "## EDA"
   ]
  },
  {
   "cell_type": "code",
   "execution_count": null,
   "id": "24",
   "metadata": {},
   "outputs": [],
   "source": [
    "# Distribución de variables\n",
    "fig, axes = plt.subplots(1, 3, figsize=(18, 6))\n",
    "\n",
    "sns.histplot(data=train, x='fare_amount', bins=50, color=sns.color_palette(\"muted\")[0], ax=axes[0], edgecolor='none')\n",
    "sns.histplot(data=train, x='distance', bins=50, color=sns.color_palette(\"muted\")[1], ax=axes[1], edgecolor='none')\n",
    "sns.countplot(data=train, x='passenger_count', color=sns.color_palette(\"muted\")[2], ax=axes[2])\n",
    "\n",
    "plt.tight_layout()\n",
    "plt.show()"
   ]
  },
  {
   "cell_type": "markdown",
   "id": "25",
   "metadata": {},
   "source": [
    "Se observa que tanto *fare_amount* como *distance* están sesgadas hacía la derecha. Vamos a tratar sus outliers."
   ]
  },
  {
   "cell_type": "markdown",
   "id": "26",
   "metadata": {},
   "source": [
    "### Tratado de Outliers"
   ]
  },
  {
   "cell_type": "markdown",
   "id": "27",
   "metadata": {},
   "source": [
    "#### Variable *fare_amount*"
   ]
  },
  {
   "cell_type": "code",
   "execution_count": null,
   "id": "28",
   "metadata": {},
   "outputs": [],
   "source": [
    "train['fare_amount'].describe(percentiles=[0.001, 0.01, 0.05, 0.25, 0.5, 0.75, 0.95, 0.99, 0.999])"
   ]
  },
  {
   "cell_type": "code",
   "execution_count": null,
   "id": "29",
   "metadata": {},
   "outputs": [],
   "source": [
    "# Análisis de tarifas mayores al 99.9% de los datos.\n",
    "sns.histplot(data=train[train['fare_amount'] > 75], x='fare_amount', bins=50, color=sns.color_palette(\"muted\")[0])"
   ]
  },
  {
   "cell_type": "markdown",
   "id": "30",
   "metadata": {},
   "source": [
    "Se obversan 4 valores atípicos de tarifa que se separan mucho del resto de los datos y también entre si. Los reemplazamos por valores nulos para su posterior imputación."
   ]
  },
  {
   "cell_type": "code",
   "execution_count": null,
   "id": "31",
   "metadata": {},
   "outputs": [],
   "source": [
    "train['fare_amount'] = np.where(train['fare_amount'] > 150, np.nan, train['fare_amount'])\n",
    "test['fare_amount'] = np.where(test['fare_amount'] > 150, np.nan, test['fare_amount'])"
   ]
  },
  {
   "cell_type": "code",
   "execution_count": null,
   "id": "32",
   "metadata": {},
   "outputs": [],
   "source": [
    "# Análisis de las tarifas hasta el percentil 1%\n",
    "train[train['fare_amount'] <= 3.3]['fare_amount'].value_counts()"
   ]
  },
  {
   "cell_type": "markdown",
   "id": "33",
   "metadata": {},
   "source": [
    "Se observan 2 valores de tarifa muy inferiores en valor y frecuencia a los demás datos. Las reemplazamos por nulos para para su posterior imputación"
   ]
  },
  {
   "cell_type": "code",
   "execution_count": null,
   "id": "34",
   "metadata": {},
   "outputs": [],
   "source": [
    "train['fare_amount'] = np.where(train['fare_amount'] < 1, np.nan, train['fare_amount'])\n",
    "test['fare_amount'] = np.where(test['fare_amount'] < 1, np.nan, test['fare_amount'])"
   ]
  },
  {
   "cell_type": "markdown",
   "id": "35",
   "metadata": {},
   "source": [
    "#### Variable *distance*"
   ]
  },
  {
   "cell_type": "code",
   "execution_count": null,
   "id": "36",
   "metadata": {},
   "outputs": [],
   "source": [
    "train['distance'].describe()"
   ]
  },
  {
   "cell_type": "markdown",
   "id": "37",
   "metadata": {},
   "source": [
    "La distancia del viaje no puede ser 0, porque no habría viaje. Asumimos que corresponden a viajes que comienzan y terminan en la misma ubicación pero tienen un recorrido con paradas intermedias, como no tenemos información sobre paradas intermedias, reemplazamos los valores 0 de distancia por nulos para su posterior imputacíon."
   ]
  },
  {
   "cell_type": "code",
   "execution_count": null,
   "id": "38",
   "metadata": {},
   "outputs": [],
   "source": [
    "train = train.assign(distance=lambda x: x['distance'].replace(0, np.nan))\n",
    "test = test.assign(distance=lambda x: x['distance'].replace(0, np.nan))\n",
    "\n",
    "# Estadísticas descriptivas de distancias no nulas\n",
    "train['distance'].describe(percentiles=[0.001, 0.01, 0.05, 0.25, 0.5, 0.75, 0.95, 0.99, 0.999])"
   ]
  },
  {
   "cell_type": "markdown",
   "id": "39",
   "metadata": {},
   "source": [
    "No vamos a considerar como válida ninguna distancia menor a 0.1km. Reemplazamos por null para posterior imputación."
   ]
  },
  {
   "cell_type": "code",
   "execution_count": null,
   "id": "40",
   "metadata": {},
   "outputs": [],
   "source": [
    "train['distance'] = np.where(train['distance'] < 0.1, np.nan, train['distance'])\n",
    "test['distance'] = np.where(test['distance'] < 0.1, np.nan, test['distance'])"
   ]
  },
  {
   "cell_type": "code",
   "execution_count": null,
   "id": "41",
   "metadata": {},
   "outputs": [],
   "source": [
    "# Descarta viajes sin tarifa y sin distancia. No imputables.\n",
    "train = train[~(train['fare_amount'].isnull() & train['distance'].isnull())]"
   ]
  },
  {
   "cell_type": "markdown",
   "id": "42",
   "metadata": {},
   "source": [
    "### Escalado"
   ]
  },
  {
   "cell_type": "code",
   "execution_count": null,
   "id": "43",
   "metadata": {},
   "outputs": [],
   "source": [
    "scaler = StandardScaler()\n",
    "scaler.fit(train[['distance', 'fare_amount']])\n",
    "\n",
    "train[['distance', 'fare_amount']] = scaler.transform(train[['distance', 'fare_amount']])\n",
    "test[['distance', 'fare_amount']] = scaler.transform(test[['distance', 'fare_amount']])"
   ]
  },
  {
   "cell_type": "markdown",
   "id": "44",
   "metadata": {},
   "source": [
    "### Imputación"
   ]
  },
  {
   "cell_type": "code",
   "execution_count": null,
   "id": "45",
   "metadata": {},
   "outputs": [],
   "source": [
    "# Imputa los valores faltantes de las variables numéricas fare_amount y distance mediante KNNImputer\n",
    "imputer = KNNImputer(n_neighbors=5)\n",
    "imputer.fit(train[['distance', 'fare_amount']])\n",
    "\n",
    "train[['distance', 'fare_amount']] = imputer.transform(train[['distance', 'fare_amount']])\n",
    "test[['distance', 'fare_amount']] = imputer.transform(test[['distance', 'fare_amount']])\n"
   ]
  },
  {
   "cell_type": "code",
   "execution_count": null,
   "id": "46",
   "metadata": {},
   "outputs": [],
   "source": [
    "plt.figure(figsize=(12, 6))\n",
    "\n",
    "sns.scatterplot(\n",
    "    data=train,\n",
    "    x='distance',\n",
    "    y='fare_amount',\n",
    "    color=sns.color_palette(\"muted\")[0],\n",
    ")\n",
    "\n",
    "plt.xlim(-1, 5)\n",
    "plt.ylim(-1, 5)\n",
    "plt.xlabel(\"Distancia (escalada)\")\n",
    "plt.ylabel(\"Tarifa (escalada)\")\n",
    "plt.title(\"Relación entre distancia y tarifa (escaladas)\")\n",
    "plt.show()"
   ]
  },
  {
   "cell_type": "markdown",
   "id": "47",
   "metadata": {},
   "source": [
    "### Ingenieria de características"
   ]
  },
  {
   "cell_type": "markdown",
   "id": "48",
   "metadata": {},
   "source": [
    "#### Variable *date*"
   ]
  },
  {
   "cell_type": "code",
   "execution_count": null,
   "id": "49",
   "metadata": {},
   "outputs": [],
   "source": [
    "train['hour'] = train['date'].dt.hour\n",
    "train['day'] = train['date'].dt.day_of_week\n",
    "train['month'] = train['date'].dt.month\n",
    "\n",
    "test['hour'] = test['date'].dt.hour\n",
    "test['day'] = test['date'].dt.day_of_week\n",
    "test['month'] = test['date'].dt.month"
   ]
  },
  {
   "cell_type": "code",
   "execution_count": null,
   "id": "50",
   "metadata": {},
   "outputs": [],
   "source": [
    "fig, axes = plt.subplots(3, 3, figsize=(18, 12))\n",
    "\n",
    "dias_semana = [\"Lunes\", \"Martes\", \"Miércoles\", \"Jueves\", \"Viernes\", \"Sábado\", \"Domingo\"]\n",
    "\n",
    "for i, dia in enumerate(dias_semana):\n",
    "    ax = axes[i // 3, i % 3]\n",
    "    sns.histplot(\n",
    "        data=train[train[\"day\"] == i],\n",
    "        x=\"hour\",\n",
    "        bins=24,\n",
    "        color=sns.color_palette(\"muted\", 7)[i],\n",
    "        edgecolor=\"none\",\n",
    "        ax=ax\n",
    "    )\n",
    "    ax.set_title(dia)\n",
    "    ax.set_xlabel(\"Horas\")\n",
    "    ax.set_ylabel(\"Frecuencia\")\n",
    "    ax.set_xticks(range(0, 24, 2))\n",
    "\n",
    "fig.delaxes(axes[2, 1])\n",
    "fig.delaxes(axes[2, 2])\n",
    "\n",
    "plt.tight_layout()\n",
    "plt.show()"
   ]
  },
  {
   "cell_type": "markdown",
   "id": "51",
   "metadata": {},
   "source": [
    "Se observa que los días Lunes, Martes y Miércoles presentan una distribución muy parecida, con una rápida diminución de viajes luego de las 22 horas.\n",
    "\n",
    "\n",
    "Los Jueves, Viernes y Sábados presentan una mayor cantidad de actividad en horarios nocturnos, y un aumento en la demanda luego de las 22 horas, especialmente los viernes y sábados.\n",
    "\n",
    "\n",
    "Los domingos presentan un comportamiento único, teníendo su momento de mayor actividad a la madrugada y una baja de actividad a partir de las 18."
   ]
  },
  {
   "cell_type": "code",
   "execution_count": null,
   "id": "52",
   "metadata": {},
   "outputs": [],
   "source": [
    "# Genera variables dummys de grupos de dias de la semana con distribuciones similares\n",
    "train['is_mon_tue_wed'] = np.where(train['day'].isin([0, 1, 2]), 1, 0)\n",
    "train['is_thu_fri_sat'] = np.where(train['day'].isin([3, 4, 5]), 1, 0)\n",
    "train['is_sun'] = np.where(train['day'] == 6, 1, 0)\n",
    "\n",
    "test['is_mon_tue_wed'] = np.where(test['day'].isin([0, 1, 2]), 1, 0)\n",
    "test['is_thu_fri_sat'] = np.where(test['day'].isin([3, 4, 5]), 1, 0)\n",
    "test['is_sun'] = np.where(test['day'] == 6, 1, 0)"
   ]
  },
  {
   "cell_type": "code",
   "execution_count": null,
   "id": "53",
   "metadata": {},
   "outputs": [],
   "source": [
    "tarifa_promedio_por_hora = train.groupby(\"hour\")['fare_amount'].mean().reset_index(name=\"promedio\")\n",
    "\n",
    "plt.figure(figsize=(12, 6))\n",
    "sns.barplot(\n",
    "    data=tarifa_promedio_por_hora,\n",
    "    x=\"hour\",\n",
    "    y=\"promedio\",\n",
    "    hue=\"hour\",\n",
    "    palette=\"muted\",\n",
    "    legend=False\n",
    ")\n",
    "\n",
    "plt.title(\"Tarifa promedio por hora del día\")\n",
    "plt.xlabel(\"Hora\")\n",
    "plt.ylabel(\"Tarifa Promedio\")\n",
    "\n",
    "plt.tight_layout()\n",
    "plt.show()"
   ]
  },
  {
   "cell_type": "markdown",
   "id": "54",
   "metadata": {},
   "source": [
    "Las tárifas promedio mas altas se dan a las 4 y 5 de la madrugada de forma acentuada por sobre el resto de las horas del día."
   ]
  },
  {
   "cell_type": "code",
   "execution_count": null,
   "id": "55",
   "metadata": {},
   "outputs": [],
   "source": [
    "# Genera variable dummy para indicar horario de madrugada\n",
    "train['is_early_morning'] = np.where(train['hour'].isin([4, 5]), 1, 0)\n",
    "\n",
    "test['is_early_morning'] = np.where(test['hour'].isin([4, 5]), 1, 0)"
   ]
  },
  {
   "cell_type": "code",
   "execution_count": null,
   "id": "56",
   "metadata": {},
   "outputs": [],
   "source": [
    "viajes_por_hora = train.groupby(\"hour\")['fare_amount'].size().reset_index(name=\"frecuencia\")\n",
    "\n",
    "plt.figure(figsize=(12, 6))\n",
    "sns.barplot(\n",
    "    data=viajes_por_hora,\n",
    "    x=\"hour\",\n",
    "    y=\"frecuencia\",\n",
    "    hue=\"hour\",\n",
    "    palette=\"muted\",\n",
    "    legend=False\n",
    ")\n",
    "\n",
    "plt.title(\"Cantidad de viajes por hora del día\")\n",
    "plt.xlabel(\"Hora\")\n",
    "plt.ylabel(\"Frecuencia\")\n",
    "\n",
    "# Mostrar el gráfico\n",
    "plt.tight_layout()\n",
    "plt.show()"
   ]
  },
  {
   "cell_type": "code",
   "execution_count": null,
   "id": "57",
   "metadata": {},
   "outputs": [],
   "source": [
    "train['hour'].value_counts().head(10)"
   ]
  },
  {
   "cell_type": "markdown",
   "id": "58",
   "metadata": {},
   "source": [
    "El horario de mayor actividad general se da marcadamente entre las 18 y las 22."
   ]
  },
  {
   "cell_type": "code",
   "execution_count": null,
   "id": "59",
   "metadata": {},
   "outputs": [],
   "source": [
    "# Genera variable dummy de alta actividad\n",
    "train['is_high_activity'] = np.where(train['hour'].isin([18, 19, 20, 21, 22]), 1, 0)\n",
    "\n",
    "test['is_high_activity'] = np.where(test['hour'].isin([18, 19, 20, 21, 22]), 1, 0)"
   ]
  },
  {
   "cell_type": "code",
   "execution_count": null,
   "id": "60",
   "metadata": {},
   "outputs": [],
   "source": [
    "tarifa_promedio_por_mes = train.groupby(\"month\")['fare_amount'].mean().reset_index(name=\"promedio\")\n",
    "\n",
    "plt.figure(figsize=(12, 6))\n",
    "sns.barplot(\n",
    "    data=tarifa_promedio_por_mes,\n",
    "    x=\"month\",\n",
    "    y=\"promedio\",\n",
    "    hue=\"month\",\n",
    "    palette=\"muted\",\n",
    "    legend=False,\n",
    ")\n",
    "\n",
    "plt.xticks(\n",
    "    ticks=range(12),\n",
    "    labels=[\"Enero\", \"Febrero\", \"Marzo\", \"Abril\", \"Mayo\", \"Junio\", \"Julio\", \"Agosto\", \"Septiembre\", \"Octubre\", \"Noviembre\", \"Diciembre\"],\n",
    "    rotation=45\n",
    ")\n",
    "\n",
    "plt.title(\"Tarifa promedio por mes del año\")\n",
    "plt.xlabel(\"Mes\")\n",
    "plt.ylabel(\"Tarifa Promedio\")\n",
    "\n",
    "plt.tight_layout()\n",
    "plt.show()"
   ]
  },
  {
   "cell_type": "markdown",
   "id": "61",
   "metadata": {},
   "source": [
    "La tarifa promedio a lo largo de los meses no muestra ninguna tendencia o particularidad clara por lo que decidimos no incluir ninguna variable relacionada para reducir el riesgo de overfitting."
   ]
  },
  {
   "cell_type": "code",
   "execution_count": null,
   "id": "62",
   "metadata": {},
   "outputs": [],
   "source": [
    "# Crea variable dummy para identificar viajes en días feriados\n",
    "us_holidays = holidays.US(years=train[\"date\"].dt.year.unique(), state=\"NY\")\n",
    "train[\"is_holiday\"] = train[\"date\"].dt.date.isin(us_holidays)"
   ]
  },
  {
   "cell_type": "code",
   "execution_count": null,
   "id": "63",
   "metadata": {},
   "outputs": [],
   "source": [
    "train.groupby(\"is_holiday\")['fare_amount'].describe()"
   ]
  },
  {
   "cell_type": "markdown",
   "id": "64",
   "metadata": {},
   "source": [
    "El hecho de que sea o no feriado no parece afectar el valor de la tarifa. por lo que decidimos eliminarla para reducir el riesgo de overfitting."
   ]
  },
  {
   "cell_type": "code",
   "execution_count": null,
   "id": "65",
   "metadata": {},
   "outputs": [],
   "source": [
    "train.drop(columns=['is_holiday'], inplace=True)"
   ]
  },
  {
   "cell_type": "code",
   "execution_count": null,
   "id": "66",
   "metadata": {},
   "outputs": [],
   "source": [
    "sns.scatterplot(\n",
    "    data=train,\n",
    "    x='distance',\n",
    "    y='fare_amount',\n",
    "    color=sns.color_palette(\"muted\")[0],\n",
    ")\n",
    "\n",
    "plt.xlabel(\"Distancia (km)\")\n",
    "plt.ylabel(\"Tarifa (USD$)\")\n",
    "plt.title(\"Relación entre distancia y tarifa\")\n",
    "plt.show()"
   ]
  },
  {
   "cell_type": "markdown",
   "id": "67",
   "metadata": {},
   "source": [
    "#### Variable *passenger_count*"
   ]
  },
  {
   "cell_type": "code",
   "execution_count": null,
   "id": "68",
   "metadata": {},
   "outputs": [],
   "source": [
    "tarifa_promedio_por_cantidad_pasajeros = train.groupby(\"passenger_count\")['fare_amount'].mean().reset_index(name=\"promedio\")\n",
    "\n",
    "plt.figure(figsize=(12, 6))\n",
    "sns.barplot(\n",
    "    data=tarifa_promedio_por_cantidad_pasajeros,\n",
    "    x=\"passenger_count\",\n",
    "    y=\"promedio\",\n",
    "    hue=\"passenger_count\",\n",
    "    palette=\"muted\",\n",
    "    legend=False,\n",
    ")\n",
    "\n",
    "plt.title(\"Tarifa promedio por cantidad de pasajeros\")\n",
    "plt.xlabel(\"Cantidad de pasajeros\")\n",
    "plt.ylabel(\"Tarifa Promedio\")\n",
    "\n",
    "plt.tight_layout()\n",
    "plt.show()"
   ]
  },
  {
   "cell_type": "markdown",
   "id": "69",
   "metadata": {},
   "source": [
    "Si bien la cantidad exacta de pasajeros de un viaje es un dato desconocido antes de concretar el viaje, si sabemos que los viajes con 0 pasajeros son envíos mediante \"Uber Flash\", y los viajes de 5 o 6 pasajeros necesitan vehículos aprobados y se solicitan bajo el nombre \"Uber XL\". Est información si la tenemos disponible al momento de solicitar el viaje ya que forma parte de los parametros que configuran al mismo. \n",
    "\n",
    "\n",
    "A priori se observa que el promedio de tarifa de cadeteria mediante \"Uber Flash\" es inferior a cualquier viaje con pasajeros."
   ]
  },
  {
   "cell_type": "code",
   "execution_count": null,
   "id": "70",
   "metadata": {},
   "outputs": [],
   "source": [
    "train['type_of_service'] = np.where(train['passenger_count'] == 0, 'flash',\n",
    "                                    np.where(train['passenger_count'] > 5, 'xl', 'x'))\n",
    "\n",
    "test['type_of_service'] = np.where(test['passenger_count'] == 0, 'flash',\n",
    "                                    np.where(test['passenger_count'] > 5, 'xl', 'x'))\n",
    "\n",
    "tarifa_promedio_por_cantidad_pasajeros = train.groupby(\"type_of_service\")['fare_amount'].mean().reset_index(name=\"promedio\")\n",
    "\n",
    "plt.figure(figsize=(12, 6))\n",
    "sns.barplot(\n",
    "    data=tarifa_promedio_por_cantidad_pasajeros,\n",
    "    x=\"type_of_service\",\n",
    "    y=\"promedio\",\n",
    "    hue=\"type_of_service\",\n",
    "    palette=\"muted\",\n",
    "    legend=False,\n",
    ")\n",
    "\n",
    "plt.title(\"Tarifa promedio por cantidad de pasajeros\")\n",
    "plt.xlabel(\"Cantidad de pasajeros\")\n",
    "plt.ylabel(\"Tarifa Promedio\")\n",
    "\n",
    "plt.tight_layout()\n",
    "plt.show()"
   ]
  },
  {
   "cell_type": "code",
   "execution_count": null,
   "id": "71",
   "metadata": {},
   "outputs": [],
   "source": [
    "plt.figure(figsize=(12, 6))\n",
    "\n",
    "sns.boxplot(\n",
    "    data=train[train['fare_amount'].quantile(0.99) >= train['fare_amount']], # Omite outliers para mejor visualización\n",
    "    x='fare_amount',\n",
    "    hue='type_of_service',\n",
    "    palette='muted',\n",
    ")\n",
    "\n",
    "plt.title('Distribución de valor de tarifa por tipo de servicio')\n",
    "plt.xlabel('Tarifa (USD)')\n",
    "plt.legend(title='Tipo de servicio')\n",
    "plt.tight_layout()\n",
    "plt.show()"
   ]
  },
  {
   "cell_type": "markdown",
   "id": "72",
   "metadata": {},
   "source": [
    "Se observan diferencias claras entre las tarifas de los distintos servicios, consistentemente las tarifas de servicio \"Uber Flash\" son inferiores a las de \"Uber X\", que son inferiores a las de \"Uber XL\". Vamos a considerar esta información para el modelo mediante el uso de variables dummys."
   ]
  },
  {
   "cell_type": "code",
   "execution_count": null,
   "id": "73",
   "metadata": {},
   "outputs": [],
   "source": [
    "# Genera dummys para tipo de servicio\n",
    "train['is_xl'] = np.where(train['type_of_service'] == 'xl', 1, 0)\n",
    "train['is_flash'] = np.where(train['type_of_service'] == 'flash', 1, 0)\n",
    "\n",
    "test['is_xl'] = np.where(test['type_of_service'] == 'xl', 1, 0)\n",
    "test['is_flash'] = np.where(test['type_of_service'] == 'flash', 1, 0)"
   ]
  },
  {
   "cell_type": "markdown",
   "id": "74",
   "metadata": {},
   "source": [
    "## PreTrain"
   ]
  },
  {
   "cell_type": "code",
   "execution_count": null,
   "id": "75",
   "metadata": {},
   "outputs": [],
   "source": [
    "train.columns"
   ]
  },
  {
   "cell_type": "code",
   "execution_count": null,
   "id": "76",
   "metadata": {},
   "outputs": [],
   "source": [
    "# Elimina columnas que no se van a utilizar en el modelo\n",
    "train.drop(columns=['pickup_longitude', 'pickup_latitude', 'dropoff_longitude', 'dropoff_latitude', 'passenger_count', 'type_of_service', 'date', 'hour', 'day', 'month'], inplace=True)\n",
    "test.drop(columns=['pickup_longitude', 'pickup_latitude', 'dropoff_longitude', 'dropoff_latitude', 'passenger_count', 'type_of_service', 'date', 'hour', 'day', 'month'], inplace=True)"
   ]
  }
 ],
 "metadata": {
  "kernelspec": {
   "display_name": ".venv",
   "language": "python",
   "name": "python3"
  },
  "language_info": {
   "codemirror_mode": {
    "name": "ipython",
    "version": 3
   },
   "file_extension": ".py",
   "mimetype": "text/x-python",
   "name": "python",
   "nbconvert_exporter": "python",
   "pygments_lexer": "ipython3",
   "version": "3.13.7"
  }
 },
 "nbformat": 4,
 "nbformat_minor": 5
}
