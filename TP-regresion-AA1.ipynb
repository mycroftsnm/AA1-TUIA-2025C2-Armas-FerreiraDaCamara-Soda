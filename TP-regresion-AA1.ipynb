{
 "cells": [
  {
   "cell_type": "code",
   "execution_count": null,
   "id": "0",
   "metadata": {},
   "outputs": [],
   "source": [
    "import pandas as pd\n",
    "import numpy as np\n",
    "\n",
    "import seaborn as sns\n",
    "import matplotlib.pyplot as plt\n",
    "\n",
    "import plotly.express as px\n",
    "import plotly.graph_objects as go\n",
    "import plotly.figure_factory as ff\n",
    "\n",
    "from sklearn.model_selection import train_test_split\n",
    "from sklearn.preprocessing import StandardScaler\n",
    "from sklearn.linear_model import LinearRegression, Lasso, Ridge, ElasticNet, LassoCV, RidgeCV, ElasticNetCV\n",
    "from sklearn.metrics import mean_squared_error, r2_score\n",
    "from sklearn.impute import KNNImputer\n",
    "\n",
    "from geopy.distance import geodesic\n",
    "\n",
    "from datetime import datetime"
   ]
  },
  {
   "cell_type": "code",
   "execution_count": null,
   "id": "1",
   "metadata": {},
   "outputs": [],
   "source": [
    "# Carga el dataset en un dataframe\n",
    "df = pd.read_csv('uber_fares.csv')\n",
    "\n",
    "# Nos quedamos con las filas cuya variable objetivo es un valor posible\n",
    "df = df[df['fare_amount'] > 0] # Elimina el 0.01% de los datos\n",
    "\n",
    "# Separa el 80% para train y 20% para test\n",
    "train, test= train_test_split(df, test_size=0.2, random_state=1)\n",
    "\n",
    "train.info()"
   ]
  },
  {
   "cell_type": "code",
   "execution_count": null,
   "id": "2",
   "metadata": {},
   "outputs": [],
   "source": [
    "# Asigna el tipo de datos correcto a las variables que representan fechas\n",
    "train['pickup_datetime'] = pd.to_datetime(train['pickup_datetime'])\n",
    "train['date'] = pd.to_datetime(train['date'])"
   ]
  },
  {
   "cell_type": "markdown",
   "id": "3",
   "metadata": {},
   "source": [
    "## Limpieza"
   ]
  },
  {
   "cell_type": "markdown",
   "id": "4",
   "metadata": {},
   "source": [
    "### Análisis de valores nulos\n",
    "Encontramos un valor nulo de *dropoff_longitude* y otro de *dropoff_latitude*, veamos las filas donde ocurren:"
   ]
  },
  {
   "cell_type": "code",
   "execution_count": null,
   "id": "5",
   "metadata": {},
   "outputs": [],
   "source": [
    "train[train.isnull().any(axis=1)]"
   ]
  },
  {
   "cell_type": "markdown",
   "id": "6",
   "metadata": {},
   "source": [
    "Ambos valores nulos se dan en la misma fila por lo que no podemos imputar la ubicación de destino ni estimar ninguna distancia recorrida, por lo tanto siendo que es una unica fila que representa menos del 0.0006% de los datos, procedemos a eliminarla."
   ]
  },
  {
   "cell_type": "code",
   "execution_count": null,
   "id": "7",
   "metadata": {},
   "outputs": [],
   "source": [
    "train = train.dropna()"
   ]
  },
  {
   "cell_type": "markdown",
   "id": "8",
   "metadata": {},
   "source": [
    "### Análisis de valores absurdos"
   ]
  },
  {
   "cell_type": "markdown",
   "id": "9",
   "metadata": {},
   "source": [
    "#### Variables de coordenadas\n",
    "\n",
    "* pickup_latitude\n",
    "* pickup_longitude\n",
    "* dropoff_latitude\n",
    "* dropoff_longitude\n"
   ]
  },
  {
   "cell_type": "code",
   "execution_count": null,
   "id": "10",
   "metadata": {},
   "outputs": [],
   "source": [
    "def coordenadas_absurdas(viaje):\n",
    "    yield not -90 <= viaje['pickup_latitude'] <= 90, 'pickup_latitude'\n",
    "    yield not -180 <= viaje['pickup_longitude'] <= 180, 'pickup_longitude'\n",
    "    yield not -90 <= viaje['dropoff_latitude'] <= 90, 'dropoff_latitude'\n",
    "    yield not -180 <= viaje['dropoff_longitude'] <= 180 , 'dropoff_longitude'\n",
    "\n",
    "def procesar_coordenadas_absurdas(df):\n",
    "    '''\n",
    "    Procesa las coordenadas absurdas en el dataframe.\n",
    "    Si una fila tiene más de una coordenada absurda, se elimina.\n",
    "    Si tiene una sola coordenada absurda, se imputa mediante KNN.\n",
    "    Si imputar == False, se eliminan las filas con al menos una coordenada absurda.\n",
    "    '''\n",
    "    def procesar_fila(viaje):\n",
    "        coordenada = None\n",
    "        for absurda, coord in coordenadas_absurdas(viaje):\n",
    "            if absurda:\n",
    "                if coordenada:  # Más de una coordenada absurda\n",
    "                    return None # Convierte la fila en NaNs para posterior eliminación\n",
    "                coordenada = coord\n",
    "\n",
    "        if coordenada:\n",
    "            viaje[coordenada] = np.nan # Coordenada absurda -> NaN para posterior imputación\n",
    "        return viaje\n",
    "\n",
    "    df = df.apply(procesar_fila, axis=1)\n",
    "    df = df.dropna(how='all') # Elimina filas de NaNs\n",
    "\n",
    "    # Imputar coordenada absurda mediante KNN\n",
    "    imputer = KNNImputer(n_neighbors=5)\n",
    "    df[['pickup_latitude', 'pickup_longitude', 'dropoff_latitude', 'dropoff_longitude']] = imputer.fit_transform(df[['pickup_latitude', 'pickup_longitude', 'dropoff_latitude', 'dropoff_longitude']])\n",
    "    \n",
    "    return df\n",
    "\n",
    "train = procesar_coordenadas_absurdas(train)\n",
    "test = procesar_coordenadas_absurdas(test)"
   ]
  },
  {
   "cell_type": "markdown",
   "id": "11",
   "metadata": {},
   "source": [
    "#### Null Island\n",
    "Isla ficticia, ubicada en 0°N 0°E, que los GPS suelen utilizar como ubicación por defecto cuando no pueden determinar la ubicación real, es decir, una forma de representar una ubicación nula."
   ]
  },
  {
   "cell_type": "code",
   "execution_count": null,
   "id": "12",
   "metadata": {},
   "outputs": [],
   "source": [
    "train = train[\n",
    "    ~(\n",
    "        (train['pickup_latitude'] == 0) & (train['pickup_longitude'] == 0) |\n",
    "        (train['dropoff_latitude'] == 0) & (train['dropoff_longitude'] == 0)\n",
    "    )\n",
    "]\n",
    "\n",
    "test = test[\n",
    "    ~(\n",
    "        (test['pickup_latitude'] == 0) & (test['pickup_longitude'] == 0) |\n",
    "        (test['dropoff_latitude'] == 0) & (test['dropoff_longitude'] == 0)\n",
    "    )\n",
    "]"
   ]
  },
  {
   "cell_type": "code",
   "execution_count": null,
   "id": "13",
   "metadata": {},
   "outputs": [],
   "source": [
    "def imputar_distancia(viaje):\n",
    "    '''\n",
    "    Calcula la distancía  en kilometros del viaje\n",
    "    mediante una combinación de distancia Manhattan con\n",
    "    distancia geodésica (teniendo en cuenta la curvatura\n",
    "    de la Tierra.)\n",
    "    '''\n",
    "    lat1 = viaje['pickup_latitude']\n",
    "    lon1 = viaje['pickup_longitude']\n",
    "    lat2 = viaje['dropoff_latitude']\n",
    "    lon2 = viaje['dropoff_longitude']\n",
    "\n",
    "    distancia_lat = np.float32(geodesic((lat1, lon1), (lat2, lon1)).kilometers)\n",
    "    distancia_lon = np.float32(geodesic((lat2, lon1), (lat2, lon2)).kilometers)\n",
    "\n",
    "    return distancia_lat + distancia_lon\n",
    "\n",
    "train['distance'] = train.apply(imputar_distancia, axis=1)\n",
    "test['distance'] = test.apply(imputar_distancia, axis=1)"
   ]
  },
  {
   "cell_type": "code",
   "execution_count": null,
   "id": "14",
   "metadata": {},
   "outputs": [],
   "source": [
    "train[[train['distance'] >= 200],[train['is_water'] == True]]"
   ]
  },
  {
   "cell_type": "code",
   "execution_count": null,
   "id": "15",
   "metadata": {},
   "outputs": [],
   "source": [
    "train.info()"
   ]
  },
  {
   "cell_type": "markdown",
   "id": "16",
   "metadata": {},
   "source": [
    "#### Hasta acá removimos el 2.025% de los datos"
   ]
  },
  {
   "cell_type": "code",
   "execution_count": null,
   "id": "17",
   "metadata": {},
   "outputs": [],
   "source": [
    "train[train['distance'] > 50]"
   ]
  },
  {
   "cell_type": "code",
   "execution_count": null,
   "id": "18",
   "metadata": {},
   "outputs": [],
   "source": [
    "sns.scatterplot(data=train, x='distance', y='fare_amount')"
   ]
  },
  {
   "cell_type": "code",
   "execution_count": null,
   "id": "19",
   "metadata": {},
   "outputs": [],
   "source": [
    "train['fare_amount'].plot.kde()"
   ]
  },
  {
   "cell_type": "code",
   "execution_count": null,
   "id": "20",
   "metadata": {},
   "outputs": [],
   "source": [
    "from global_land_mask import globe\n",
    "\n",
    "train['is_water'] = train.apply(\n",
    "    lambda viaje:\n",
    "    globe.is_ocean(viaje['pickup_latitude'],viaje['pickup_longitude'])\n",
    "    | globe.is_ocean(viaje['dropoff_latitude'],viaje['dropoff_longitude']),\n",
    "    axis=1)"
   ]
  },
  {
   "cell_type": "code",
   "execution_count": null,
   "id": "21",
   "metadata": {},
   "outputs": [],
   "source": [
    "train[(train['is_water'] == True)].count()"
   ]
  }
 ],
 "metadata": {
  "kernelspec": {
   "display_name": "Python (myenv)",
   "language": "python",
   "name": "myenv"
  },
  "language_info": {
   "codemirror_mode": {
    "name": "ipython",
    "version": 3
   },
   "file_extension": ".py",
   "mimetype": "text/x-python",
   "name": "python",
   "nbconvert_exporter": "python",
   "pygments_lexer": "ipython3",
   "version": "3.13.7"
  }
 },
 "nbformat": 4,
 "nbformat_minor": 5
}
