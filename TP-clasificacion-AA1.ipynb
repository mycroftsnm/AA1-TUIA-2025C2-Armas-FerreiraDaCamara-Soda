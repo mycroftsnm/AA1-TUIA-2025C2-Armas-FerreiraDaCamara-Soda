{
 "cells": [
  {
   "cell_type": "code",
   "execution_count": null,
   "id": "d4b36cbd",
   "metadata": {},
   "outputs": [],
   "source": [
    "import pandas as pd\n",
    "import numpy as np\n",
    "\n",
    "import seaborn as sns\n",
    "import matplotlib.pyplot as plt\n",
    "import plotly.express as px\n",
    "\n",
    "from sklearn.model_selection import train_test_split\n",
    "from sklearn.preprocessing import StandardScaler"
   ]
  },
  {
   "cell_type": "code",
   "execution_count": null,
   "id": "0770624a",
   "metadata": {},
   "outputs": [],
   "source": [
    "# Carga el dataset en un dataframe\n",
    "df = pd.read_csv('weatherAUS.csv')\n",
    "\n",
    "# Revisa si hay filas duplicadas\n",
    "df.duplicated().sum() # 0 filas duplicadas\n",
    "\n",
    "pd.set_option('display.max_columns', None)\n",
    "df.describe(include='all')"
   ]
  },
  {
   "cell_type": "markdown",
   "id": "020e6df9",
   "metadata": {},
   "source": [
    "# Limpieza y preprocesamiento"
   ]
  },
  {
   "cell_type": "code",
   "execution_count": null,
   "id": "503fc7a7",
   "metadata": {},
   "outputs": [],
   "source": [
    "df.info(verbose=True)"
   ]
  },
  {
   "cell_type": "code",
   "execution_count": null,
   "id": "879f295f",
   "metadata": {},
   "outputs": [],
   "source": [
    "# Drop de filas con NaN en la feature objetivo\n",
    "df = df.dropna(subset=['RainTomorrow'])"
   ]
  },
  {
   "cell_type": "code",
   "execution_count": null,
   "id": "09e5234f",
   "metadata": {},
   "outputs": [],
   "source": [
    "df['RainToday'] = df['RainToday'].map({'Yes': 1, 'No': 0}).astype('Int8')\n",
    "df['RainTomorrow'] = df['RainTomorrow'].map({'Yes': 1, 'No': 0}).astype('Int8')"
   ]
  },
  {
   "cell_type": "code",
   "execution_count": null,
   "id": "aa70c589",
   "metadata": {},
   "outputs": [],
   "source": [
    "df['Cloud3pm'].value_counts(dropna=False)"
   ]
  },
  {
   "cell_type": "code",
   "execution_count": null,
   "id": "467aeb00",
   "metadata": {},
   "outputs": [],
   "source": [
    "df['Cloud9am'].value_counts(dropna=False)"
   ]
  },
  {
   "cell_type": "markdown",
   "id": "410fd0ef",
   "metadata": {},
   "source": [
    "Por el rango de valores que asumen las variables **Cloud9am** y **Cloud3pm** asumimos que dichas variables están medidas en octas, que es la unidad de medida empleada para describir la nubosidad observable en un determinado lugar. https://es.wikipedia.org/wiki/Octa"
   ]
  },
  {
   "cell_type": "code",
   "execution_count": null,
   "id": "e9ddf053",
   "metadata": {},
   "outputs": [],
   "source": [
    "def generar_csv_coordenadas(df):\n",
    "    import time\n",
    "    import pandas as pd\n",
    "    from geopy.geocoders import Nominatim\n",
    "\n",
    "    ubicaciones = df['Location'].unique()\n",
    "    australia_coords = pd.DataFrame({\"location\": ubicaciones})\n",
    "\n",
    "    geolocator = Nominatim(user_agent=\"australia_mapper\")\n",
    "\n",
    "    lats, lons = [], []\n",
    "\n",
    "    def normalizar_nombre_ubicacion(ubicacion):\n",
    "        for i in range(1, len(ubicacion)):\n",
    "            if ubicacion[i].isupper():\n",
    "                return ubicacion[:i] + \" \" + ubicacion[i:]\n",
    "        return ubicacion\n",
    "\n",
    "    nombres_ubicaciones =  map(normalizar_nombre_ubicacion, ubicaciones)\n",
    "\n",
    "    for ubicacion in nombres_ubicaciones:\n",
    "        result = geolocator.geocode(f\"{ubicacion}, Australia\", timeout=10)\n",
    "        if result:\n",
    "            lats.append(result.latitude)\n",
    "            lons.append(result.longitude)\n",
    "        else:\n",
    "            print('No se encontró', ubicacion)\n",
    "            lats.append(None)\n",
    "            lons.append(None)\n",
    "        time.sleep(1.1)  # máx 1 req/s\n",
    "\n",
    "\n",
    "    australia_coords[\"lat\"] = lats\n",
    "    australia_coords[\"lon\"] = lons\n",
    "\n",
    "    australia_coords.to_csv(\"australian_locations.csv\", index=False)"
   ]
  },
  {
   "cell_type": "code",
   "execution_count": null,
   "id": "c40bf22d",
   "metadata": {},
   "outputs": [],
   "source": [
    "# generar_csv_coordenadas(df) # Descomentar para generar el CSV"
   ]
  },
  {
   "cell_type": "code",
   "execution_count": null,
   "id": "9fb898c6",
   "metadata": {},
   "outputs": [],
   "source": [
    "# Df con coordenadas\n",
    "australia_coords = pd.read_csv(\"australian_locations.csv\")\n",
    "\n",
    "# Genera variable frecuencia para cada ubicación\n",
    "australia_coords['frecuencia'] = df['Location'].value_counts().values"
   ]
  },
  {
   "cell_type": "code",
   "execution_count": null,
   "id": "418578a0",
   "metadata": {},
   "outputs": [],
   "source": [
    "import plotly.express as px\n",
    "\n",
    "fig = px.scatter_geo(\n",
    "    australia_coords,\n",
    "    lat='lat',\n",
    "    lon='lon',\n",
    "    scope='oceania',\n",
    "    color='frecuencia',\n",
    "    hover_name='location',\n",
    "    projection='natural earth',\n",
    "    color_continuous_scale='Purp',\n",
    ")\n",
    "\n",
    "# Ajusta los límites del mapa para centrarse en Australia\n",
    "fig.update_geos(\n",
    "    lonaxis=dict(range=[min(australia_coords['lon'])-5, max(australia_coords['lon'])+5]),\n",
    "    lataxis=dict(range=[min(australia_coords['lat'])-5, max(australia_coords['lat'])+5]),\n",
    ")\n",
    "fig.update_layout(width=1600,height=900)\n",
    "\n",
    "fig.update_traces(marker_size=20)\n",
    "\n",
    "fig.show()"
   ]
  },
  {
   "cell_type": "markdown",
   "id": "a4e47cbd",
   "metadata": {},
   "source": [
    "Observamos que tenemos datos de muchas ubicaciones distintas, implicando que tendremos que generar una gran cantidad de variables dummys lo que corre riesgo de overfitting. Vamos a reducir la dimensionalidad agrupando ubicaciones según sus tipos de clima, siguiendo la clasificación de Koppen. "
   ]
  },
  {
   "cell_type": "code",
   "execution_count": null,
   "id": "3e9c4034",
   "metadata": {},
   "outputs": [],
   "source": [
    "# Genera una nueva variable Climate basada en la clásificación de Koppen, utilizando la variable Location\n",
    "\n",
    "location_koppen = {\n",
    "    'Adelaide': 'Temperate',\n",
    "    'Albany': 'Temperate',\n",
    "    'Albury': 'Temperate',\n",
    "    'AliceSprings': 'Arid',\n",
    "    'BadgerysCreek': 'Temperate',\n",
    "    'Ballarat': 'Temperate',\n",
    "    'Bendigo': 'Temperate',\n",
    "    'Brisbane': 'Temperate',\n",
    "    'Cairns': 'Tropical',\n",
    "    'Canberra': 'Temperate',\n",
    "    'Cobar': 'Arid',\n",
    "    'CoffsHarbour': 'Temperate',\n",
    "    'Dartmoor': 'Temperate',\n",
    "    'Darwin': 'Tropical',\n",
    "    'GoldCoast': 'Temperate',\n",
    "    'Hobart': 'Temperate',\n",
    "    'Katherine': 'Tropical',\n",
    "    'Launceston': 'Temperate',\n",
    "    'Melbourne': 'Temperate',\n",
    "    'Mildura': 'Arid',\n",
    "    'Moree': 'Temperate',\n",
    "    'MountGambier': 'Temperate',\n",
    "    'MountGinini': 'Temperate',\n",
    "    'Newcastle': 'Temperate',\n",
    "    'Nhil': 'Temperate',\n",
    "    'NorahHead': 'Temperate',\n",
    "    'NorfolkIsland': 'Temperate',\n",
    "    'Nuriootpa': 'Temperate',\n",
    "    'PearceRAAF': 'Temperate',\n",
    "    'Penrith': 'Temperate',\n",
    "    'Perth': 'Temperate',\n",
    "    'PerthAirport': 'Temperate',\n",
    "    'Portland': 'Temperate',\n",
    "    'Richmond': 'Temperate',\n",
    "    'Sale': 'Temperate',\n",
    "    'SalmonGums': 'Arid',\n",
    "    'Sydney': 'Temperate',\n",
    "    'SydneyAirport': 'Temperate',\n",
    "    'Townsville': 'Tropical',\n",
    "    'Tuggeranong': 'Temperate',\n",
    "    'Uluru': 'Arid',\n",
    "    'WaggaWagga': 'Temperate',\n",
    "    'Walpole': 'Temperate',\n",
    "    'Watsonia': 'Temperate',\n",
    "    'Williamtown': 'Temperate',\n",
    "    'Witchcliffe': 'Temperate',\n",
    "    'Wollongong': 'Temperate',\n",
    "    'Woomera': 'Arid',\n",
    "}"
   ]
  },
  {
   "cell_type": "code",
   "execution_count": null,
   "id": "fde1e611",
   "metadata": {},
   "outputs": [],
   "source": [
    "# Genera la nueva variable en el df original y en el df de coordenadas\n",
    "df['Climate'] = df['Location'].map(location_koppen)\n",
    "\n",
    "australia_coords['Climate'] = australia_coords['location'].map(location_koppen)"
   ]
  },
  {
   "cell_type": "code",
   "execution_count": null,
   "id": "21bbab29",
   "metadata": {},
   "outputs": [],
   "source": [
    "import plotly.express as px\n",
    "\n",
    "fig = px.scatter_geo(\n",
    "    australia_coords,\n",
    "    lat='lat',\n",
    "    lon='lon',\n",
    "    scope='oceania',\n",
    "    color='Climate',\n",
    "    hover_name='location',\n",
    "    projection='natural earth',\n",
    "    size='frecuencia',\n",
    ")\n",
    "\n",
    "# Ajusta los límites del mapa para centrarse en Australia\n",
    "fig.update_geos(\n",
    "    lonaxis=dict(range=[min(australia_coords['lon'])-5, max(australia_coords['lon'])+5]),\n",
    "    lataxis=dict(range=[min(australia_coords['lat'])-5, max(australia_coords['lat'])+5]),\n",
    ")\n",
    "fig.update_layout(width=1600,height=900)\n",
    "\n",
    "fig.show()"
   ]
  },
  {
   "cell_type": "markdown",
   "id": "1711f70b",
   "metadata": {},
   "source": [
    "### Split Train/Test"
   ]
  },
  {
   "cell_type": "code",
   "execution_count": null,
   "id": "29ea118a",
   "metadata": {},
   "outputs": [],
   "source": [
    "# Separa el 80% para train y 20% para test\n",
    "train, test= train_test_split(df, test_size=0.2, random_state=1)"
   ]
  },
  {
   "cell_type": "markdown",
   "id": "238f90f1",
   "metadata": {},
   "source": [
    "# EDA"
   ]
  },
  {
   "cell_type": "code",
   "execution_count": null,
   "id": "6c94b1da",
   "metadata": {},
   "outputs": [],
   "source": [
    "variables_numericas = df.select_dtypes(include=['float64', 'int64']).columns.tolist()\n",
    "print(f\"Hay {len(variables_numericas)} variables_numericas:\\n{variables_numericas}\")"
   ]
  },
  {
   "cell_type": "code",
   "execution_count": null,
   "id": "8f135988",
   "metadata": {},
   "outputs": [],
   "source": [
    "# Distribución de variables\n",
    "fig, axes = plt.subplots(4, 4, figsize=(20, 18))\n",
    "\n",
    "for i, var in enumerate(variables_numericas):\n",
    "    if var == 'Cloud3pm' or var == 'Cloud9am':\n",
    "        sns.countplot(data=train, x=var, hue='Climate', palette='muted', ax=axes[i // 4, i % 4], hue_order=['Arid', 'Temperate', 'Tropical'])\n",
    "    else:\n",
    "        sns.kdeplot(data=train, x=var, hue='Climate', palette='muted', ax=axes[i // 4, i % 4], hue_order=['Arid', 'Temperate', 'Tropical'], common_norm=False)\n",
    "\n",
    "plt.tight_layout()\n",
    "plt.show()"
   ]
  },
  {
   "cell_type": "code",
   "execution_count": null,
   "id": "7a1b256b",
   "metadata": {},
   "outputs": [],
   "source": [
    "ayer_segun_hoy = pd.crosstab(train['RainTomorrow'], train['RainToday'], normalize='index')\n",
    "hoy_segun_ayer = pd.crosstab(train['RainToday'], train['RainTomorrow'], normalize='index')\n",
    "\n",
    "\n",
    "fig, axes = plt.subplots(1, 2, figsize=(16, 9))\n",
    "\n",
    "sns.heatmap(hoy_segun_ayer, annot=True, cmap='Purples', fmt='.3f', cbar=False, ax=axes[0])\n",
    "sns.heatmap(ayer_segun_hoy, annot=True, cmap='Purples', fmt='.3f', cbar=False, ax=axes[1])\n",
    "\n",
    "axes[0].set_title('Proporción de días que llovió hoy según si llovió ayer')\n",
    "axes[0].set_xticks(ticks=[0.5, 1.5], labels=['No', 'Sí'])\n",
    "axes[0].set_yticks(ticks=[0.5, 1.5], labels=['No', 'Sí'])\n",
    "axes[0].set_xlabel('¿Llovió hoy?')\n",
    "axes[0].set_ylabel('¿Llovió ayer?')\n",
    "\n",
    "axes[1].set_title('Proporción de días que llovió ayer según si llovió hoy')\n",
    "axes[1].set_xticks(ticks=[0.5, 1.5], labels=['No', 'Sí'])\n",
    "axes[1].set_yticks(ticks=[0.5, 1.5], labels=['No', 'Sí'])\n",
    "axes[1].set_xlabel('¿Llovió ayer?')\n",
    "axes[1].set_ylabel('¿Llovió hoy?')\n",
    "\n",
    "plt.show()"
   ]
  },
  {
   "cell_type": "code",
   "execution_count": null,
   "id": "6029057c",
   "metadata": {},
   "outputs": [],
   "source": [
    "train['Rainfall'].describe(percentiles=[0.25, 0.5, 0.75, 0.9, 0.95, 0.99, .999, .9999])"
   ]
  },
  {
   "cell_type": "code",
   "execution_count": null,
   "id": "986e34bb",
   "metadata": {
    "lines_to_next_cell": 2
   },
   "outputs": [],
   "source": [
    "train = train[train['Rainfall'] < 188]\n",
    "test = test[test['Rainfall'] < 188]"
   ]
  },
  {
   "cell_type": "code",
   "execution_count": null,
   "id": "1bdbd9e1",
   "metadata": {},
   "outputs": [],
   "source": [
    "# Crea los bins para Rainfall\n",
    "bins = [float('-inf'), 0, 1, 5, 10, 25, 188]\n",
    "\n",
    "intervalos = pd.cut(train['Rainfall'], bins=bins, right=True)\n",
    "\n",
    "train['Rainfall_range'] = intervalos\n",
    "# Convierte los intervalos a strings para que Seaborn pueda manejarlos\n",
    "train['Rainfall_range'] = train['Rainfall_range'].astype(str)\n",
    "\n",
    "# Asegura que los rangos mantengan el orden\n",
    "train['Rainfall_range'] = pd.Categorical(\n",
    "    train['Rainfall_range'],\n",
    "    categories=[str(interval) for interval in intervalos.cat.categories],\n",
    "    ordered=True\n",
    ")\n",
    "\n",
    "frecuencias = train['Rainfall_range'].value_counts(normalize=True).sort_index()\n",
    "\n",
    "fig, ax1 = plt.subplots(figsize=(16, 9))\n",
    "sns.histplot(\n",
    "    data=train,\n",
    "    x='Rainfall_range',\n",
    "    hue='RainTomorrow',\n",
    "    palette='muted',\n",
    "    multiple='fill',  # Mostrar proporciones dentro de cada bin\n",
    "    ax=ax1,\n",
    ")\n",
    "\n",
    "ax1.set_xlabel('Rango de Lluvia (mm)')\n",
    "ax1.set_ylabel('Proporción de casos que llovió al día siguiente')\n",
    "ax1.set_title('Distribución de mm de lluvia registrados y si llovió al día siguiente')\n",
    "\n",
    "ax1.set_yticks([0, 0.1, 0.2, 0.3, 0.4, 0.5, 0.6, 0.7, 0.8, 0.9, 1])\n",
    "\n",
    "ax1.legend(title='', labels=['Llovió al día siguiente', 'No llovió al dia siguiente'], loc='upper right')\n",
    "\n",
    "# Segundo eje para la proporción absoluta\n",
    "ax2 = ax1.twinx()\n",
    "ax2.plot(frecuencias.index, frecuencias, color=sns.color_palette('muted')[3], marker='o', label='Proporción absoluta')\n",
    "ax2.legend(loc='upper left')\n",
    "\n",
    "# Oculta el eje y secundario; tiene la misma escala que el principal.\n",
    "ax2.set_axis_off()\n",
    "ax2.set_ylim(0, 1)\n",
    "\n",
    "plt.tight_layout()\n",
    "plt.show()"
   ]
  },
  {
   "cell_type": "markdown",
   "id": "3a924193",
   "metadata": {},
   "source": [
    "### Variable **Evaporation**"
   ]
  },
  {
   "cell_type": "code",
   "execution_count": null,
   "id": "2adf2be9",
   "metadata": {},
   "outputs": [],
   "source": [
    "train['Evaporation'].describe(percentiles=[0.25, 0.5, 0.75, 0.9, 0.95, 0.99, .999, .9999])"
   ]
  },
  {
   "cell_type": "code",
   "execution_count": null,
   "id": "d31e6156",
   "metadata": {},
   "outputs": [],
   "source": [
    "train = train[train['Evaporation'] < 71]\n",
    "test = test[test['Evaporation'] < 71]"
   ]
  }
 ],
 "metadata": {
  "jupytext": {
   "formats": "ipynb,py:percent"
  },
  "kernelspec": {
   "display_name": "Python 3",
   "language": "python",
   "name": "python3"
  }
 },
 "nbformat": 4,
 "nbformat_minor": 5
}
